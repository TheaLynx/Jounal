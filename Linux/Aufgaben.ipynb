{
 "cells": [
  {
   "cell_type": "markdown",
   "id": "1bdc0caa",
   "metadata": {},
   "source": [
    "- Im Home-Verzeichnis erstelle ein neues Verzeichnis namens \"Aufgaben\". \n",
    "- Betritt das Verzeichnis.\n",
    "- Erstelle drei leere Dateien mit Namen \"Datei 1\", \"Datei 2\", \"Datei 5\"\n",
    "- Erstelle drei Dateien mit einem selbstgewähltem Text in ihnen mit Namen \"Datei 3\", \"Datei 4\" und \"Datei 6\" (achte auf das Leerzeichen)!\n",
    "- Lösche die Dateien, die auf 4, 5 und 6 enden, wenn möglich mit nur einem Befehlsaufruf "
   ]
  },
  {
   "cell_type": "markdown",
   "id": "eee2345b",
   "metadata": {},
   "source": [
    "<details>\n",
    "    <summary>Lösung</summary>\n",
    "    rm Datei\\ [4-6] oder rm Datei?[4-6]\n",
    "</details>"
   ]
  },
  {
   "cell_type": "markdown",
   "id": "79fa4016",
   "metadata": {},
   "source": [
    "- Erstelle die Verzeichnisse Dateien/Archive Dateien/Komprimiert mit nur einem Befehl"
   ]
  },
  {
   "cell_type": "markdown",
   "id": "96329d7b",
   "metadata": {},
   "source": [
    "<details>\n",
    "    <summary>Lösung</summary>\n",
    "    mkdir -p Dateien/Archive Dateien/Komprimiert\n",
    "</details>"
   ]
  },
  {
   "cell_type": "markdown",
   "id": "dd42a31f",
   "metadata": {},
   "source": [
    "- Schauen Sie sich die Rechte und Dateigröße an. Woran erkennt man was eine Datei und was ein Verzeichnis ist? "
   ]
  },
  {
   "cell_type": "markdown",
   "id": "324b4c35",
   "metadata": {},
   "source": [
    "<details>\n",
    "    <summary>Lösung</summary>\n",
    "    ls -lhs\n",
    "</details>"
   ]
  },
  {
   "cell_type": "markdown",
   "id": "fe4ccd03",
   "metadata": {},
   "source": [
    "- Gehen Sie ins Verzeichnis Dateien/Archive"
   ]
  },
  {
   "cell_type": "markdown",
   "id": "11035e0b",
   "metadata": {},
   "source": [
    "<details>\n",
    "    <summary>Lösung</summary>\n",
    "    cd Dateien/Archive\n",
    "</details>"
   ]
  },
  {
   "cell_type": "markdown",
   "id": "6a796dd0",
   "metadata": {},
   "source": [
    "- Schreiben Sie den Inhalt ALLER Dateien in /etc/ in eine Datei namens Dateisammlung: "
   ]
  },
  {
   "cell_type": "markdown",
   "id": "de721f10",
   "metadata": {},
   "source": [
    "<details>\n",
    "    <summary>Lösung</summary>\n",
    "    cat /etc/* > Dateisammlung \n",
    "</details>"
   ]
  },
  {
   "cell_type": "markdown",
   "id": "24a45500",
   "metadata": {},
   "source": [
    "- Gehen Sie zurück ins Verzeichnis Aufgaben mit nur einem Befehlsaufruf wenn möglich:"
   ]
  },
  {
   "cell_type": "markdown",
   "id": "0e4f3b52",
   "metadata": {},
   "source": [
    "<details>\n",
    "    <summary>Lösung</summary>\n",
    "    cd ~/Aufgaben\n",
    "</details>"
   ]
  },
  {
   "cell_type": "markdown",
   "id": "2867460b",
   "metadata": {},
   "source": [
    "- Erstellen Sie eine Archivdatei Datei.tar aus Dateisammlung. Das Archiv soll im Verzeichnis ~/Aufgaben/Dateien/Archive/ erstellt werden."
   ]
  },
  {
   "cell_type": "markdown",
   "id": "072d4725",
   "metadata": {},
   "source": [
    "<details>\n",
    "    <summary>Lösung</summary>\n",
    "    tar -cf Dateien/Archive/Datei.tar Dateien/Archive/Dateisammlung\n",
    "</details>"
   ]
  },
  {
   "cell_type": "markdown",
   "id": "0a68c4d4",
   "metadata": {},
   "source": [
    "- Erstellen Sie ein komprimiertes Archiv mit den entsprechenden Endungen im Verzeichnis Dateien/Komprimiert/. Benutzen Sie Dateisammlung. Wählen Sie selber welches Komprimierungsprogramm Sie benutzen wollen."
   ]
  },
  {
   "cell_type": "markdown",
   "id": "c755f659",
   "metadata": {},
   "source": [
    "<details>\n",
    "    <summary>Lösung</summary>\n",
    "    tar -cJf Dateien/Komprimiert/Datei.tar.xz Datei/Archive/Dateisammlung\n",
    "</details>"
   ]
  },
  {
   "cell_type": "markdown",
   "id": "d1557d4f",
   "metadata": {},
   "source": [
    "- Hängen Sie einen Text an die drei übriggebliebenen Dateien im Aufgabenverzeichnis ihrer Wahl an. "
   ]
  },
  {
   "cell_type": "markdown",
   "id": "a3d1debb",
   "metadata": {},
   "source": [
    "<details>\n",
    "    <summary>Lösung</summary>\n",
    "    \n",
    "    echo \"Weiterer Text angehängt\" >> \"Datei 1\"\n",
    "    \n",
    "    echo \"Success\" >> Datei 2\n",
    "    \n",
    "    echo \"Nochmal Tag Weiß\" >> Datei\\ 3\n",
    "</details>"
   ]
  },
  {
   "cell_type": "markdown",
   "id": "9481b435",
   "metadata": {},
   "source": [
    "Der Befehl find sollte nun folgendes anzeigen, wenn er im Verzeichnis \"Aufgaben\" aufgerufen wird.\n",
    "\n",
    "    .\n",
    "    ./AllesInEinerDatei.txt\n",
    "    ./Datei 1\n",
    "    ./Datei 3\n",
    "    ./Dateien\n",
    "    ./Dateien/Archive\n",
    "    ./Dateien/Archive/Dateiensammlung\n",
    "    ./Dateien/Archive/Datei.tar\n",
    "    ./Dateien/Komprimiert\n",
    "    ./Dateien/Komprimiert/Datei.tar.xz\n",
    "    ./Datei 2\n",
    "    \n",
    "Wer das Paket tree installiert hat sollte folgendes sehen:\n",
    "![tree.png](tree.png)"
   ]
  },
  {
   "cell_type": "markdown",
   "id": "01561dba",
   "metadata": {},
   "source": [
    "- Erstellen Sie ein komprimiertes Archive aus allem und löschen Sie den Rest."
   ]
  },
  {
   "cell_type": "markdown",
   "id": "b13fdb8f",
   "metadata": {},
   "source": [
    "<details>\n",
    "    <summary>Lösung</summary>\n",
    "    \n",
    "    tar -cJf Alles.tar.xz * Dateien/\n",
    "    \n",
    "    rm -r Dateien\n",
    "    \n",
    "    rm Datei*\n",
    "    \n",
    "    rm AllesIn*\n",
    "</details>"
   ]
  },
  {
   "cell_type": "markdown",
   "id": "54fa8fb1",
   "metadata": {},
   "source": [
    "- Betrachten Sie den Inhalt des Archives. "
   ]
  },
  {
   "cell_type": "markdown",
   "id": "fbedb551",
   "metadata": {},
   "source": [
    "<details>\n",
    "    <summary>Lösung</summary>\n",
    "    tar -tf Alles.tar.xz\n",
    "</details>"
   ]
  },
  {
   "cell_type": "code",
   "execution_count": null,
   "id": "a4781673",
   "metadata": {},
   "outputs": [],
   "source": []
  }
 ],
 "metadata": {
  "kernelspec": {
   "display_name": "Python 3 (ipykernel)",
   "language": "python",
   "name": "python3"
  },
  "language_info": {
   "codemirror_mode": {
    "name": "ipython",
    "version": 3
   },
   "file_extension": ".py",
   "mimetype": "text/x-python",
   "name": "python",
   "nbconvert_exporter": "python",
   "pygments_lexer": "ipython3",
   "version": "3.9.18"
  }
 },
 "nbformat": 4,
 "nbformat_minor": 5
}
